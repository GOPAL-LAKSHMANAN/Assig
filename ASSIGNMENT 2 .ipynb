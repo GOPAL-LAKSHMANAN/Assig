{
 "cells": [
  {
   "cell_type": "markdown",
   "id": "9ae87d4f-2576-42ac-b818-aa4d030f5e7b",
   "metadata": {},
   "source": [
    "# Functions"
   ]
  },
  {
   "cell_type": "markdown",
   "id": "069009ba-5705-419e-97cf-5cd6217ed4d8",
   "metadata": {},
   "source": [
    "### 1) Write a function add_numbers that takes two number as arguments and return there sum."
   ]
  },
  {
   "cell_type": "code",
   "execution_count": 7,
   "id": "ab4d67ce-72c1-4414-9c14-1794c653b906",
   "metadata": {},
   "outputs": [],
   "source": [
    "def add_numbers(a,b):\n",
    "    return(a,b)\n"
   ]
  },
  {
   "cell_type": "code",
   "execution_count": 2,
   "id": "ea5f57af-5860-4abf-af3b-a2f96af84c73",
   "metadata": {},
   "outputs": [
    {
     "name": "stdin",
     "output_type": "stream",
     "text": [
      "Enter the value of a:  7\n",
      "Enter the value of b : 9\n"
     ]
    }
   ],
   "source": [
    "A = float(input(\"Enter the value of a: \"))\n",
    "B = float(input(\"Enter the value of b:\"))\n"
   ]
  },
  {
   "cell_type": "code",
   "execution_count": 14,
   "id": "1f9f4c87-0271-4ff2-8eac-01de57fae533",
   "metadata": {},
   "outputs": [
    {
     "name": "stdout",
     "output_type": "stream",
     "text": [
      "Sum of a and b: {16.0}\n"
     ]
    }
   ],
   "source": [
    "print(\"Sum of a and b:\", {add})"
   ]
  },
  {
   "cell_type": "markdown",
   "id": "4ebb4887-b815-49a5-9396-25733d556096",
   "metadata": {},
   "source": [
    "### 2) Write a function multiply_numbers that takes two number as arguments and return there product"
   ]
  },
  {
   "cell_type": "code",
   "execution_count": 20,
   "id": "558a3389-107d-47e0-aa87-c24570adf3a0",
   "metadata": {},
   "outputs": [],
   "source": [
    "def multiply_numbers(c,d):\n",
    "    return(c,d)\n"
   ]
  },
  {
   "cell_type": "code",
   "execution_count": 24,
   "id": "d96e90ec-0f84-46f0-8681-618420b15d35",
   "metadata": {},
   "outputs": [
    {
     "name": "stdin",
     "output_type": "stream",
     "text": [
      "enter the value of c: 6\n",
      "enter the value of d: 6\n"
     ]
    }
   ],
   "source": [
    "C= int(input(\"enter the value of c:\"))\n",
    "D= int(input(\"enter the value of d:\"))"
   ]
  },
  {
   "cell_type": "code",
   "execution_count": 27,
   "id": "71dbb117-31d5-4480-a226-5627b9051eb2",
   "metadata": {},
   "outputs": [],
   "source": [
    "product=C*D"
   ]
  },
  {
   "cell_type": "code",
   "execution_count": 28,
   "id": "0911f3b1-acb9-4b43-a027-173f1f20c834",
   "metadata": {},
   "outputs": [
    {
     "name": "stdout",
     "output_type": "stream",
     "text": [
      "the produce of c and d: {36}\n"
     ]
    }
   ],
   "source": [
    "print(\"the produce of c and d:\", {product})"
   ]
  },
  {
   "cell_type": "markdown",
   "id": "09ed1a05-0c2e-477b-a52c-94486b360a51",
   "metadata": {},
   "source": [
    "### 3) Write a function divide_numbers that takes two number as arguments and return their quotient. make sure to handle the case where second number is 0"
   ]
  },
  {
   "cell_type": "code",
   "execution_count": 88,
   "id": "893bd24a-8d31-4965-9de3-656127556ae0",
   "metadata": {},
   "outputs": [],
   "source": [
    "a=10\n",
    "b=0"
   ]
  },
  {
   "cell_type": "code",
   "execution_count": 89,
   "id": "6a706d86-a364-4d50-9a3c-b11944565cca",
   "metadata": {},
   "outputs": [
    {
     "name": "stdout",
     "output_type": "stream",
     "text": [
      "cannot devided by zero\n"
     ]
    }
   ],
   "source": [
    "if b!=0:\n",
    "    result=a/b\n",
    "    print(\"result:\", result)\n",
    "else:\n",
    "    print(\"cannot devided by zero\")\n"
   ]
  },
  {
   "cell_type": "markdown",
   "id": "81c061c5-7a43-4fd0-a279-3da21783f7e1",
   "metadata": {},
   "source": [
    "### 4) write a function calculate_avarage that takes a list of numbers as an argument and return there average."
   ]
  },
  {
   "cell_type": "code",
   "execution_count": 105,
   "id": "1775a306-2bc3-4696-84e3-0109b1517440",
   "metadata": {},
   "outputs": [],
   "source": [
    "def calculate_average(number):\n",
    "        return sum(number)/len(number)"
   ]
  },
  {
   "cell_type": "code",
   "execution_count": 106,
   "id": "14400bd3-25ed-480d-8427-7ad24c1c90fa",
   "metadata": {},
   "outputs": [],
   "source": [
    "number= [5,10,15,20,25]"
   ]
  },
  {
   "cell_type": "code",
   "execution_count": 107,
   "id": "e99e5d13-3e8e-4c1b-93e9-614eb4c31b76",
   "metadata": {},
   "outputs": [
    {
     "name": "stdout",
     "output_type": "stream",
     "text": [
      "the average is: 15.0\n"
     ]
    }
   ],
   "source": [
    "average= sum(number)/len(number)\n",
    "calculate_average(number)\n",
    "print(\"the average is:\", average)"
   ]
  },
  {
   "cell_type": "markdown",
   "id": "93d3f0e8-0a3d-413b-8390-28282940c605",
   "metadata": {},
   "source": [
    "### 5) write a function is_prime that takes a number as argument and returns true if the number is prime and false otherwise."
   ]
  },
  {
   "cell_type": "code",
   "execution_count": 122,
   "id": "bd3d5049-9023-4b34-a848-604642d2d462",
   "metadata": {},
   "outputs": [],
   "source": [
    "def is_prime(number):\n",
    "    if number<=1:\n",
    "        return false\n",
    "        for i in range(2,int(number**0.5)+1):\n",
    "            if number %i== 0:\n",
    "                return false\n",
    "                return true"
   ]
  },
  {
   "cell_type": "code",
   "execution_count": 130,
   "id": "e68f4ea3-d8fb-4958-889f-3eefdc1af10c",
   "metadata": {},
   "outputs": [],
   "source": [
    "number = 4"
   ]
  },
  {
   "cell_type": "code",
   "execution_count": 131,
   "id": "2b529253-e509-42c1-9531-5bc590f1143f",
   "metadata": {},
   "outputs": [
    {
     "name": "stdout",
     "output_type": "stream",
     "text": [
      "4  is not a prime number\n"
     ]
    }
   ],
   "source": [
    "if is_prime(number):\n",
    "    print(number, \"is prime number\")\n",
    "else:\n",
    "    print(number, \" is not a prime number\")"
   ]
  },
  {
   "cell_type": "markdown",
   "id": "29860939-5cf9-4acc-b607-d2ed62a416f8",
   "metadata": {},
   "source": [
    "## OOPS"
   ]
  },
  {
   "cell_type": "markdown",
   "id": "509224c0-b014-4f98-bc6f-d0372c4e2072",
   "metadata": {},
   "source": [
    "### 6) Create a class bank with attributes name and accounts. Add methods add_account, remove_account,and get_total_balance that add an account to lits, remove an account from the list and return the total balance from the list and return the total balance of all account respectively."
   ]
  },
  {
   "cell_type": "code",
   "execution_count": 165,
   "id": "852db949-2474-4429-9d7b-c0cdd9cb9940",
   "metadata": {},
   "outputs": [
    {
     "name": "stdout",
     "output_type": "stream",
     "text": [
      "Total balance in My Bank: Rs 12500.00\n"
     ]
    }
   ],
   "source": [
    "class Bank:\n",
    "    def __init__(self, name):\n",
    "        self.name = name\n",
    "        self.accounts = []\n",
    "    def add_account(self, account):\n",
    "        self.accounts.append(account)\n",
    "    def remove_account(self, account_number): \n",
    "        self.accounts = [acc for acc in self.accounts if acc['account_number'] != account_number]\n",
    "    def get_total_balance(self):\n",
    "        total_balance = sum(acc['balance'] for acc in self.accounts)\n",
    "        return total_balance\n",
    "        \n",
    "if __name__ == \"__main__\":\n",
    "    my_bank = Bank(name=\"My Bank\")\n",
    "    my_bank.add_account({'account_number': 123, 'balance': 11000})\n",
    "    my_bank.remove_account({'account_number': 456, 'balance': 2000})\n",
    "    my_bank.add_account({'account_number': 789, 'balance': 1500})\n",
    "\n",
    "    print(f\"Total balance in {my_bank.name}: Rs {my_bank.get_total_balance():.2f}\")\n"
   ]
  }
 ],
 "metadata": {
  "kernelspec": {
   "display_name": "Python 3 (ipykernel)",
   "language": "python",
   "name": "python3"
  },
  "language_info": {
   "codemirror_mode": {
    "name": "ipython",
    "version": 3
   },
   "file_extension": ".py",
   "mimetype": "text/x-python",
   "name": "python",
   "nbconvert_exporter": "python",
   "pygments_lexer": "ipython3",
   "version": "3.12.0"
  }
 },
 "nbformat": 4,
 "nbformat_minor": 5
}
